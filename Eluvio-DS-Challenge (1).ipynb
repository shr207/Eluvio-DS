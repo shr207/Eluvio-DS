{
 "cells": [
  {
   "cell_type": "markdown",
   "metadata": {},
   "source": [
    "# ELUVIO DS CHALLENGE"
   ]
  },
  {
   "cell_type": "markdown",
   "metadata": {},
   "source": [
    "## Read in the data"
   ]
  },
  {
   "cell_type": "code",
   "execution_count": 133,
   "metadata": {},
   "outputs": [],
   "source": [
    "import pandas as pd\n",
    "import numpy as np\n",
    "import matplotlib.pyplot as plt\n",
    "import seaborn as sns\n",
    "import nltk\n",
    "from nltk.corpus import stopwords\n",
    "from nltk.stem.snowball import SnowballStemmer\n",
    "from nltk.stem import WordNetLemmatizer\n",
    "from sklearn.model_selection import train_test_split\n",
    "from sklearn.feature_extraction.text import CountVectorizer\n",
    "from sklearn.linear_model import LinearRegression, LassoCV\n",
    "from sklearn.metrics import mean_squared_error"
   ]
  },
  {
   "cell_type": "code",
   "execution_count": 134,
   "metadata": {},
   "outputs": [],
   "source": [
    "df = pd.read_csv('Eluvio_DS_Challenge.csv')"
   ]
  },
  {
   "cell_type": "markdown",
   "metadata": {},
   "source": [
    "## Explore the data\n",
    "1) Get the data types of the columns\n",
    "\n",
    "2) Check for null values and drop columns with a lot null values"
   ]
  },
  {
   "cell_type": "code",
   "execution_count": 135,
   "metadata": {},
   "outputs": [
    {
     "name": "stdout",
     "output_type": "stream",
     "text": [
      "<class 'pandas.core.frame.DataFrame'>\n",
      "RangeIndex: 509236 entries, 0 to 509235\n",
      "Data columns (total 8 columns):\n",
      " #   Column        Non-Null Count   Dtype \n",
      "---  ------        --------------   ----- \n",
      " 0   time_created  509236 non-null  int64 \n",
      " 1   date_created  509236 non-null  object\n",
      " 2   up_votes      509236 non-null  int64 \n",
      " 3   down_votes    509236 non-null  int64 \n",
      " 4   title         509236 non-null  object\n",
      " 5   over_18       509236 non-null  bool  \n",
      " 6   author        509236 non-null  object\n",
      " 7   category      509236 non-null  object\n",
      "dtypes: bool(1), int64(3), object(4)\n",
      "memory usage: 27.7+ MB\n"
     ]
    }
   ],
   "source": [
    "df.info()"
   ]
  },
  {
   "cell_type": "code",
   "execution_count": 136,
   "metadata": {},
   "outputs": [
    {
     "data": {
      "text/html": [
       "<div>\n",
       "<style scoped>\n",
       "    .dataframe tbody tr th:only-of-type {\n",
       "        vertical-align: middle;\n",
       "    }\n",
       "\n",
       "    .dataframe tbody tr th {\n",
       "        vertical-align: top;\n",
       "    }\n",
       "\n",
       "    .dataframe thead th {\n",
       "        text-align: right;\n",
       "    }\n",
       "</style>\n",
       "<table border=\"1\" class=\"dataframe\">\n",
       "  <thead>\n",
       "    <tr style=\"text-align: right;\">\n",
       "      <th></th>\n",
       "      <th>time_created</th>\n",
       "      <th>date_created</th>\n",
       "      <th>up_votes</th>\n",
       "      <th>down_votes</th>\n",
       "      <th>title</th>\n",
       "      <th>over_18</th>\n",
       "      <th>author</th>\n",
       "      <th>category</th>\n",
       "    </tr>\n",
       "  </thead>\n",
       "  <tbody>\n",
       "    <tr>\n",
       "      <th>0</th>\n",
       "      <td>1201232046</td>\n",
       "      <td>2008-01-25</td>\n",
       "      <td>3</td>\n",
       "      <td>0</td>\n",
       "      <td>Scores killed in Pakistan clashes</td>\n",
       "      <td>False</td>\n",
       "      <td>polar</td>\n",
       "      <td>worldnews</td>\n",
       "    </tr>\n",
       "    <tr>\n",
       "      <th>1</th>\n",
       "      <td>1201232075</td>\n",
       "      <td>2008-01-25</td>\n",
       "      <td>2</td>\n",
       "      <td>0</td>\n",
       "      <td>Japan resumes refuelling mission</td>\n",
       "      <td>False</td>\n",
       "      <td>polar</td>\n",
       "      <td>worldnews</td>\n",
       "    </tr>\n",
       "    <tr>\n",
       "      <th>2</th>\n",
       "      <td>1201232523</td>\n",
       "      <td>2008-01-25</td>\n",
       "      <td>3</td>\n",
       "      <td>0</td>\n",
       "      <td>US presses Egypt on Gaza border</td>\n",
       "      <td>False</td>\n",
       "      <td>polar</td>\n",
       "      <td>worldnews</td>\n",
       "    </tr>\n",
       "    <tr>\n",
       "      <th>3</th>\n",
       "      <td>1201233290</td>\n",
       "      <td>2008-01-25</td>\n",
       "      <td>1</td>\n",
       "      <td>0</td>\n",
       "      <td>Jump-start economy: Give health care to all</td>\n",
       "      <td>False</td>\n",
       "      <td>fadi420</td>\n",
       "      <td>worldnews</td>\n",
       "    </tr>\n",
       "    <tr>\n",
       "      <th>4</th>\n",
       "      <td>1201274720</td>\n",
       "      <td>2008-01-25</td>\n",
       "      <td>4</td>\n",
       "      <td>0</td>\n",
       "      <td>Council of Europe bashes EU&amp;UN terror blacklist</td>\n",
       "      <td>False</td>\n",
       "      <td>mhermans</td>\n",
       "      <td>worldnews</td>\n",
       "    </tr>\n",
       "  </tbody>\n",
       "</table>\n",
       "</div>"
      ],
      "text/plain": [
       "   time_created date_created  up_votes  down_votes  \\\n",
       "0    1201232046   2008-01-25         3           0   \n",
       "1    1201232075   2008-01-25         2           0   \n",
       "2    1201232523   2008-01-25         3           0   \n",
       "3    1201233290   2008-01-25         1           0   \n",
       "4    1201274720   2008-01-25         4           0   \n",
       "\n",
       "                                             title  over_18    author  \\\n",
       "0                Scores killed in Pakistan clashes    False     polar   \n",
       "1                 Japan resumes refuelling mission    False     polar   \n",
       "2                  US presses Egypt on Gaza border    False     polar   \n",
       "3     Jump-start economy: Give health care to all     False   fadi420   \n",
       "4  Council of Europe bashes EU&UN terror blacklist    False  mhermans   \n",
       "\n",
       "    category  \n",
       "0  worldnews  \n",
       "1  worldnews  \n",
       "2  worldnews  \n",
       "3  worldnews  \n",
       "4  worldnews  "
      ]
     },
     "execution_count": 136,
     "metadata": {},
     "output_type": "execute_result"
    }
   ],
   "source": [
    "df.head()"
   ]
  },
  {
   "cell_type": "markdown",
   "metadata": {},
   "source": [
    "We can see that the dataframe has no missing values, we can now go ahead with exploring the individual columns.\n",
    "\n",
    "Since the 'downvote' columns has a lot of zeros, we will visualize how many articles have zero downvotes"
   ]
  },
  {
   "cell_type": "code",
   "execution_count": 137,
   "metadata": {},
   "outputs": [
    {
     "data": {
      "text/plain": [
       "<matplotlib.axes._subplots.AxesSubplot at 0x1a6c70a710>"
      ]
     },
     "execution_count": 137,
     "metadata": {},
     "output_type": "execute_result"
    },
    {
     "data": {
      "image/png": "[encoded data removed]",
      "text/plain": [
       "<Figure size 432x288 with 1 Axes>"
      ]
     },
     "metadata": {
      "needs_background": "light"
     },
     "output_type": "display_data"
    }
   ],
   "source": [
    "df['down_votes'].value_counts().plot(kind = 'bar')"
   ]
  },
  {
   "cell_type": "code",
   "execution_count": 138,
   "metadata": {},
   "outputs": [
    {
     "data": {
      "text/plain": [
       "0    509236\n",
       "Name: down_votes, dtype: int64"
      ]
     },
     "execution_count": 138,
     "metadata": {},
     "output_type": "execute_result"
    }
   ],
   "source": [
    "df['down_votes'].value_counts()"
   ]
  },
  {
   "cell_type": "markdown",
   "metadata": {},
   "source": [
    "We can see that there are no articles with a downvote, therefore this column might not be very useful in our analysis of this datastet"
   ]
  },
  {
   "cell_type": "code",
   "execution_count": 139,
   "metadata": {},
   "outputs": [
    {
     "name": "stdout",
     "output_type": "stream",
     "text": [
      "False    508916\n",
      "True        320\n",
      "Name: over_18, dtype: int64\n"
     ]
    },
    {
     "data": {
      "image/png": "[encoded data removed]",
      "text/plain": [
       "<Figure size 432x288 with 1 Axes>"
      ]
     },
     "metadata": {
      "needs_background": "light"
     },
     "output_type": "display_data"
    }
   ],
   "source": [
    "df['over_18'].value_counts().plot(kind = 'bar')\n",
    "print(df['over_18'].value_counts()) # Only 320 articles fall under over 18"
   ]
  },
  {
   "cell_type": "markdown",
   "metadata": {},
   "source": [
    "There are very few articles, 320, to be precise, which fall under the over_18 category"
   ]
  },
  {
   "cell_type": "code",
   "execution_count": 140,
   "metadata": {},
   "outputs": [
    {
     "name": "stdout",
     "output_type": "stream",
     "text": [
      "worldnews    509236\n",
      "Name: category, dtype: int64\n"
     ]
    },
    {
     "data": {
      "image/png": "[encoded data removed]",
      "text/plain": [
       "<Figure size 432x288 with 1 Axes>"
      ]
     },
     "metadata": {
      "needs_background": "light"
     },
     "output_type": "display_data"
    }
   ],
   "source": [
    "df['category'].value_counts().plot(kind = 'bar')\n",
    "print(df['category'].value_counts()) "
   ]
  },
  {
   "cell_type": "markdown",
   "metadata": {},
   "source": [
    "We can see that there is only one category of articles, which is world news"
   ]
  },
  {
   "cell_type": "markdown",
   "metadata": {},
   "source": [
    "## Explorotary Analysis"
   ]
  },
  {
   "cell_type": "markdown",
   "metadata": {},
   "source": [
    "### Analysing the relationship between year/day of the week the article was posted and the average upvotes"
   ]
  },
  {
   "cell_type": "code",
   "execution_count": 141,
   "metadata": {},
   "outputs": [
    {
     "data": {
      "text/html": [
       "<div>\n",
       "<style scoped>\n",
       "    .dataframe tbody tr th:only-of-type {\n",
       "        vertical-align: middle;\n",
       "    }\n",
       "\n",
       "    .dataframe tbody tr th {\n",
       "        vertical-align: top;\n",
       "    }\n",
       "\n",
       "    .dataframe thead th {\n",
       "        text-align: right;\n",
       "    }\n",
       "</style>\n",
       "<table border=\"1\" class=\"dataframe\">\n",
       "  <thead>\n",
       "    <tr style=\"text-align: right;\">\n",
       "      <th></th>\n",
       "      <th>time_created</th>\n",
       "      <th>date_created</th>\n",
       "      <th>up_votes</th>\n",
       "      <th>down_votes</th>\n",
       "      <th>title</th>\n",
       "      <th>over_18</th>\n",
       "      <th>author</th>\n",
       "      <th>category</th>\n",
       "      <th>year</th>\n",
       "      <th>day</th>\n",
       "    </tr>\n",
       "  </thead>\n",
       "  <tbody>\n",
       "    <tr>\n",
       "      <th>0</th>\n",
       "      <td>1970-01-01 00:00:01.201232046</td>\n",
       "      <td>2008-01-25</td>\n",
       "      <td>3</td>\n",
       "      <td>0</td>\n",
       "      <td>Scores killed in Pakistan clashes</td>\n",
       "      <td>False</td>\n",
       "      <td>polar</td>\n",
       "      <td>worldnews</td>\n",
       "      <td>2008</td>\n",
       "      <td>Friday</td>\n",
       "    </tr>\n",
       "    <tr>\n",
       "      <th>1</th>\n",
       "      <td>1970-01-01 00:00:01.201232075</td>\n",
       "      <td>2008-01-25</td>\n",
       "      <td>2</td>\n",
       "      <td>0</td>\n",
       "      <td>Japan resumes refuelling mission</td>\n",
       "      <td>False</td>\n",
       "      <td>polar</td>\n",
       "      <td>worldnews</td>\n",
       "      <td>2008</td>\n",
       "      <td>Friday</td>\n",
       "    </tr>\n",
       "    <tr>\n",
       "      <th>2</th>\n",
       "      <td>1970-01-01 00:00:01.201232523</td>\n",
       "      <td>2008-01-25</td>\n",
       "      <td>3</td>\n",
       "      <td>0</td>\n",
       "      <td>US presses Egypt on Gaza border</td>\n",
       "      <td>False</td>\n",
       "      <td>polar</td>\n",
       "      <td>worldnews</td>\n",
       "      <td>2008</td>\n",
       "      <td>Friday</td>\n",
       "    </tr>\n",
       "    <tr>\n",
       "      <th>3</th>\n",
       "      <td>1970-01-01 00:00:01.201233290</td>\n",
       "      <td>2008-01-25</td>\n",
       "      <td>1</td>\n",
       "      <td>0</td>\n",
       "      <td>Jump-start economy: Give health care to all</td>\n",
       "      <td>False</td>\n",
       "      <td>fadi420</td>\n",
       "      <td>worldnews</td>\n",
       "      <td>2008</td>\n",
       "      <td>Friday</td>\n",
       "    </tr>\n",
       "    <tr>\n",
       "      <th>4</th>\n",
       "      <td>1970-01-01 00:00:01.201274720</td>\n",
       "      <td>2008-01-25</td>\n",
       "      <td>4</td>\n",
       "      <td>0</td>\n",
       "      <td>Council of Europe bashes EU&amp;UN terror blacklist</td>\n",
       "      <td>False</td>\n",
       "      <td>mhermans</td>\n",
       "      <td>worldnews</td>\n",
       "      <td>2008</td>\n",
       "      <td>Friday</td>\n",
       "    </tr>\n",
       "    <tr>\n",
       "      <th>...</th>\n",
       "      <td>...</td>\n",
       "      <td>...</td>\n",
       "      <td>...</td>\n",
       "      <td>...</td>\n",
       "      <td>...</td>\n",
       "      <td>...</td>\n",
       "      <td>...</td>\n",
       "      <td>...</td>\n",
       "      <td>...</td>\n",
       "      <td>...</td>\n",
       "    </tr>\n",
       "    <tr>\n",
       "      <th>509231</th>\n",
       "      <td>1970-01-01 00:00:01.479816764</td>\n",
       "      <td>2016-11-22</td>\n",
       "      <td>5</td>\n",
       "      <td>0</td>\n",
       "      <td>Heil Trump : Donald Trump s  alt-right  white...</td>\n",
       "      <td>False</td>\n",
       "      <td>nonamenoglory</td>\n",
       "      <td>worldnews</td>\n",
       "      <td>2016</td>\n",
       "      <td>Tuesday</td>\n",
       "    </tr>\n",
       "    <tr>\n",
       "      <th>509232</th>\n",
       "      <td>1970-01-01 00:00:01.479816772</td>\n",
       "      <td>2016-11-22</td>\n",
       "      <td>1</td>\n",
       "      <td>0</td>\n",
       "      <td>There are people speculating that this could b...</td>\n",
       "      <td>False</td>\n",
       "      <td>SummerRay</td>\n",
       "      <td>worldnews</td>\n",
       "      <td>2016</td>\n",
       "      <td>Tuesday</td>\n",
       "    </tr>\n",
       "    <tr>\n",
       "      <th>509233</th>\n",
       "      <td>1970-01-01 00:00:01.479817056</td>\n",
       "      <td>2016-11-22</td>\n",
       "      <td>1</td>\n",
       "      <td>0</td>\n",
       "      <td>Professor receives Arab Researchers Award</td>\n",
       "      <td>False</td>\n",
       "      <td>AUSharjah</td>\n",
       "      <td>worldnews</td>\n",
       "      <td>2016</td>\n",
       "      <td>Tuesday</td>\n",
       "    </tr>\n",
       "    <tr>\n",
       "      <th>509234</th>\n",
       "      <td>1970-01-01 00:00:01.479817157</td>\n",
       "      <td>2016-11-22</td>\n",
       "      <td>1</td>\n",
       "      <td>0</td>\n",
       "      <td>Nigel Farage attacks response to Trump ambassa...</td>\n",
       "      <td>False</td>\n",
       "      <td>smilyflower</td>\n",
       "      <td>worldnews</td>\n",
       "      <td>2016</td>\n",
       "      <td>Tuesday</td>\n",
       "    </tr>\n",
       "    <tr>\n",
       "      <th>509235</th>\n",
       "      <td>1970-01-01 00:00:01.479817346</td>\n",
       "      <td>2016-11-22</td>\n",
       "      <td>1</td>\n",
       "      <td>0</td>\n",
       "      <td>Palestinian wielding knife shot dead in West B...</td>\n",
       "      <td>False</td>\n",
       "      <td>superislam</td>\n",
       "      <td>worldnews</td>\n",
       "      <td>2016</td>\n",
       "      <td>Tuesday</td>\n",
       "    </tr>\n",
       "  </tbody>\n",
       "</table>\n",
       "<p>509236 rows × 10 columns</p>\n",
       "</div>"
      ],
      "text/plain": [
       "                        time_created date_created  up_votes  down_votes  \\\n",
       "0      1970-01-01 00:00:01.201232046   2008-01-25         3           0   \n",
       "1      1970-01-01 00:00:01.201232075   2008-01-25         2           0   \n",
       "2      1970-01-01 00:00:01.201232523   2008-01-25         3           0   \n",
       "3      1970-01-01 00:00:01.201233290   2008-01-25         1           0   \n",
       "4      1970-01-01 00:00:01.201274720   2008-01-25         4           0   \n",
       "...                              ...          ...       ...         ...   \n",
       "509231 1970-01-01 00:00:01.479816764   2016-11-22         5           0   \n",
       "509232 1970-01-01 00:00:01.479816772   2016-11-22         1           0   \n",
       "509233 1970-01-01 00:00:01.479817056   2016-11-22         1           0   \n",
       "509234 1970-01-01 00:00:01.479817157   2016-11-22         1           0   \n",
       "509235 1970-01-01 00:00:01.479817346   2016-11-22         1           0   \n",
       "\n",
       "                                                    title  over_18  \\\n",
       "0                       Scores killed in Pakistan clashes    False   \n",
       "1                        Japan resumes refuelling mission    False   \n",
       "2                         US presses Egypt on Gaza border    False   \n",
       "3            Jump-start economy: Give health care to all     False   \n",
       "4         Council of Europe bashes EU&UN terror blacklist    False   \n",
       "...                                                   ...      ...   \n",
       "509231   Heil Trump : Donald Trump s  alt-right  white...    False   \n",
       "509232  There are people speculating that this could b...    False   \n",
       "509233          Professor receives Arab Researchers Award    False   \n",
       "509234  Nigel Farage attacks response to Trump ambassa...    False   \n",
       "509235  Palestinian wielding knife shot dead in West B...    False   \n",
       "\n",
       "               author   category  year      day  \n",
       "0               polar  worldnews  2008   Friday  \n",
       "1               polar  worldnews  2008   Friday  \n",
       "2               polar  worldnews  2008   Friday  \n",
       "3             fadi420  worldnews  2008   Friday  \n",
       "4            mhermans  worldnews  2008   Friday  \n",
       "...               ...        ...   ...      ...  \n",
       "509231  nonamenoglory  worldnews  2016  Tuesday  \n",
       "509232      SummerRay  worldnews  2016  Tuesday  \n",
       "509233      AUSharjah  worldnews  2016  Tuesday  \n",
       "509234    smilyflower  worldnews  2016  Tuesday  \n",
       "509235     superislam  worldnews  2016  Tuesday  \n",
       "\n",
       "[509236 rows x 10 columns]"
      ]
     },
     "execution_count": 141,
     "metadata": {},
     "output_type": "execute_result"
    }
   ],
   "source": [
    "# Converting the date_created column to datetime type since it is an object type\n",
    "df['date_created']= pd.to_datetime(df['date_created'])\n",
    "df['time_created']= pd.to_datetime(df['time_created'])\n",
    "df['year'] = df['date_created'].dt.year\n",
    "df['day'] = df['date_created'].dt.day_name()\n",
    "df"
   ]
  },
  {
   "cell_type": "markdown",
   "metadata": {},
   "source": [
    "### Calculate the average number of upvotes based on the year"
   ]
  },
  {
   "cell_type": "code",
   "execution_count": 142,
   "metadata": {},
   "outputs": [
    {
     "name": "stderr",
     "output_type": "stream",
     "text": [
      "/usr/local/anaconda3/lib/python3.7/site-packages/ipykernel_launcher.py:14: MatplotlibDeprecationWarning: Adding an axes using the same arguments as a previous axes currently reuses the earlier instance.  In a future version, a new instance will always be created and returned.  Meanwhile, this warning can be suppressed, and the future behavior ensured, by passing a unique label to each axes instance.\n",
      "  \n"
     ]
    },
    {
     "data": {
      "image/png": "[encoded data removed]",
      "text/plain": [
       "<Figure size 504x504 with 1 Axes>"
      ]
     },
     "metadata": {
      "needs_background": "light"
     },
     "output_type": "display_data"
    }
   ],
   "source": [
    "temp_df = df.groupby([\"year\"],as_index = False)['up_votes'].mean()\n",
    "\n",
    "plt.figure(figsize=(7, 7))\n",
    "plt.scatter(x = temp_df['year'], y = temp_df['up_votes'],c='red', s=70, alpha=0.5)\n",
    "plt.title(\"Average upvotes of articles per year\", fontsize=18)\n",
    "plt.xlabel(\"Year\", fontsize=14, labelpad=15)\n",
    "plt.ylabel(\"Average upvote of article\", fontsize=14, labelpad=15)\n",
    "\n",
    "#Adding a trendline to the scatterplot\n",
    "z = np.polyfit(temp_df['year'], temp_df['up_votes'], 1)\n",
    "p = np.poly1d(z)\n",
    "plt.plot(temp_df['year'],p(temp_df['year']))\n",
    "\n",
    "ax = plt.subplot()\n",
    "ax.spines['right'].set_visible(False)\n",
    "ax.spines['top'].set_visible(False)"
   ]
  },
  {
   "cell_type": "markdown",
   "metadata": {},
   "source": [
    "Here, given the trendline of average upvotes of articles per year, we notice that there is a steady increase in the average number of upvotes across the years"
   ]
  },
  {
   "cell_type": "markdown",
   "metadata": {},
   "source": [
    "### Visualizing the average upvotes based on the day the article was posted"
   ]
  },
  {
   "cell_type": "code",
   "execution_count": 143,
   "metadata": {},
   "outputs": [
    {
     "name": "stderr",
     "output_type": "stream",
     "text": [
      "/usr/local/anaconda3/lib/python3.7/site-packages/ipykernel_launcher.py:10: MatplotlibDeprecationWarning: Adding an axes using the same arguments as a previous axes currently reuses the earlier instance.  In a future version, a new instance will always be created and returned.  Meanwhile, this warning can be suppressed, and the future behavior ensured, by passing a unique label to each axes instance.\n",
      "  # Remove the CWD from sys.path while we load stuff.\n"
     ]
    },
    {
     "data": {
      "image/png": "[encoded data removed]",
      "text/plain": [
       "<Figure size 648x504 with 1 Axes>"
      ]
     },
     "metadata": {
      "needs_background": "light"
     },
     "output_type": "display_data"
    }
   ],
   "source": [
    "day_df = df.groupby([\"day\"],as_index = False)['up_votes'].mean()\n",
    "\n",
    "plt.figure(figsize=(9, 7))\n",
    "plt.bar(day_df[\"day\"],day_df[\"up_votes\"], color=['orange', 'red', 'green', 'blue', 'cyan', 'purple','yellow'],\n",
    "        alpha=0.6)\n",
    "plt.title(\"Average upvotes of articles vs Day of the week\", fontsize=18)\n",
    "plt.xlabel(\"Day of the week\", fontsize=14, labelpad=15)\n",
    "plt.ylabel(\"Average Upvotes\", fontsize=14, labelpad=15)\n",
    "\n",
    "ax = plt.subplot()\n",
    "ax.spines['right'].set_visible(False)\n",
    "ax.spines['top'].set_visible(False)"
   ]
  },
  {
   "cell_type": "markdown",
   "metadata": {},
   "source": [
    "We can see that articles posted on Saturday and Sunday have a higher average of upvotes as compared to other days. \n",
    "Articles posted on the rest of the days have a similar average of upvotes. This "
   ]
  },
  {
   "cell_type": "markdown",
   "metadata": {},
   "source": [
    "### Analysing the authors of articles"
   ]
  },
  {
   "cell_type": "markdown",
   "metadata": {},
   "source": [
    "#### 1) Top 25 authors in terms of the number of articles posted\n",
    "#### 2) Top 25 authors in terms of the average upvotes per article"
   ]
  },
  {
   "cell_type": "code",
   "execution_count": 144,
   "metadata": {},
   "outputs": [
    {
     "data": {
      "text/html": [
       "<div>\n",
       "<style scoped>\n",
       "    .dataframe tbody tr th:only-of-type {\n",
       "        vertical-align: middle;\n",
       "    }\n",
       "\n",
       "    .dataframe tbody tr th {\n",
       "        vertical-align: top;\n",
       "    }\n",
       "\n",
       "    .dataframe thead th {\n",
       "        text-align: right;\n",
       "    }\n",
       "</style>\n",
       "<table border=\"1\" class=\"dataframe\">\n",
       "  <thead>\n",
       "    <tr style=\"text-align: right;\">\n",
       "      <th></th>\n",
       "      <th>author</th>\n",
       "      <th>num_articles</th>\n",
       "    </tr>\n",
       "  </thead>\n",
       "  <tbody>\n",
       "    <tr>\n",
       "      <th>0</th>\n",
       "      <td>davidreiss666</td>\n",
       "      <td>8897</td>\n",
       "    </tr>\n",
       "    <tr>\n",
       "      <th>1</th>\n",
       "      <td>anutensil</td>\n",
       "      <td>5730</td>\n",
       "    </tr>\n",
       "    <tr>\n",
       "      <th>2</th>\n",
       "      <td>DoremusJessup</td>\n",
       "      <td>5037</td>\n",
       "    </tr>\n",
       "    <tr>\n",
       "      <th>3</th>\n",
       "      <td>maxwellhill</td>\n",
       "      <td>4023</td>\n",
       "    </tr>\n",
       "    <tr>\n",
       "      <th>4</th>\n",
       "      <td>igeldard</td>\n",
       "      <td>4013</td>\n",
       "    </tr>\n",
       "    <tr>\n",
       "      <th>...</th>\n",
       "      <td>...</td>\n",
       "      <td>...</td>\n",
       "    </tr>\n",
       "    <tr>\n",
       "      <th>85833</th>\n",
       "      <td>koi_8</td>\n",
       "      <td>1</td>\n",
       "    </tr>\n",
       "    <tr>\n",
       "      <th>85834</th>\n",
       "      <td>analyzethedata</td>\n",
       "      <td>1</td>\n",
       "    </tr>\n",
       "    <tr>\n",
       "      <th>85835</th>\n",
       "      <td>bubscuf</td>\n",
       "      <td>1</td>\n",
       "    </tr>\n",
       "    <tr>\n",
       "      <th>85836</th>\n",
       "      <td>dsrvi</td>\n",
       "      <td>1</td>\n",
       "    </tr>\n",
       "    <tr>\n",
       "      <th>85837</th>\n",
       "      <td>ArchdukeOfWalesland</td>\n",
       "      <td>1</td>\n",
       "    </tr>\n",
       "  </tbody>\n",
       "</table>\n",
       "<p>85838 rows × 2 columns</p>\n",
       "</div>"
      ],
      "text/plain": [
       "                    author  num_articles\n",
       "0            davidreiss666          8897\n",
       "1                anutensil          5730\n",
       "2            DoremusJessup          5037\n",
       "3              maxwellhill          4023\n",
       "4                 igeldard          4013\n",
       "...                    ...           ...\n",
       "85833                koi_8             1\n",
       "85834       analyzethedata             1\n",
       "85835              bubscuf             1\n",
       "85836                dsrvi             1\n",
       "85837  ArchdukeOfWalesland             1\n",
       "\n",
       "[85838 rows x 2 columns]"
      ]
     },
     "execution_count": 144,
     "metadata": {},
     "output_type": "execute_result"
    }
   ],
   "source": [
    "top25_df = df[\"author\"].value_counts().rename_axis('author').reset_index(name='num_articles')\n",
    "top25_df"
   ]
  },
  {
   "cell_type": "code",
   "execution_count": 145,
   "metadata": {},
   "outputs": [
    {
     "data": {
      "text/html": [
       "<div>\n",
       "<style scoped>\n",
       "    .dataframe tbody tr th:only-of-type {\n",
       "        vertical-align: middle;\n",
       "    }\n",
       "\n",
       "    .dataframe tbody tr th {\n",
       "        vertical-align: top;\n",
       "    }\n",
       "\n",
       "    .dataframe thead th {\n",
       "        text-align: right;\n",
       "    }\n",
       "</style>\n",
       "<table border=\"1\" class=\"dataframe\">\n",
       "  <thead>\n",
       "    <tr style=\"text-align: right;\">\n",
       "      <th></th>\n",
       "      <th>author</th>\n",
       "      <th>num_articles</th>\n",
       "      <th>up_votes</th>\n",
       "    </tr>\n",
       "  </thead>\n",
       "  <tbody>\n",
       "    <tr>\n",
       "      <th>66249</th>\n",
       "      <td>navysealassulter</td>\n",
       "      <td>1</td>\n",
       "      <td>12333.0</td>\n",
       "    </tr>\n",
       "    <tr>\n",
       "      <th>56646</th>\n",
       "      <td>seapiglet</td>\n",
       "      <td>1</td>\n",
       "      <td>11288.0</td>\n",
       "    </tr>\n",
       "    <tr>\n",
       "      <th>32174</th>\n",
       "      <td>DawgsOnTopUGA</td>\n",
       "      <td>1</td>\n",
       "      <td>10515.0</td>\n",
       "    </tr>\n",
       "    <tr>\n",
       "      <th>40319</th>\n",
       "      <td>Flamo_the_Idiot_Boy</td>\n",
       "      <td>1</td>\n",
       "      <td>10289.0</td>\n",
       "    </tr>\n",
       "    <tr>\n",
       "      <th>73570</th>\n",
       "      <td>haunted_cheesecake</td>\n",
       "      <td>1</td>\n",
       "      <td>9408.0</td>\n",
       "    </tr>\n",
       "    <tr>\n",
       "      <th>...</th>\n",
       "      <td>...</td>\n",
       "      <td>...</td>\n",
       "      <td>...</td>\n",
       "    </tr>\n",
       "    <tr>\n",
       "      <th>66769</th>\n",
       "      <td>beaucoupzombie</td>\n",
       "      <td>1</td>\n",
       "      <td>0.0</td>\n",
       "    </tr>\n",
       "    <tr>\n",
       "      <th>47826</th>\n",
       "      <td>tmorgan175</td>\n",
       "      <td>1</td>\n",
       "      <td>0.0</td>\n",
       "    </tr>\n",
       "    <tr>\n",
       "      <th>66756</th>\n",
       "      <td>someone_whos_noone</td>\n",
       "      <td>1</td>\n",
       "      <td>0.0</td>\n",
       "    </tr>\n",
       "    <tr>\n",
       "      <th>66755</th>\n",
       "      <td>Onecho</td>\n",
       "      <td>1</td>\n",
       "      <td>0.0</td>\n",
       "    </tr>\n",
       "    <tr>\n",
       "      <th>64350</th>\n",
       "      <td>BambiCNI</td>\n",
       "      <td>1</td>\n",
       "      <td>0.0</td>\n",
       "    </tr>\n",
       "  </tbody>\n",
       "</table>\n",
       "<p>85838 rows × 3 columns</p>\n",
       "</div>"
      ],
      "text/plain": [
       "                    author  num_articles  up_votes\n",
       "66249     navysealassulter             1   12333.0\n",
       "56646            seapiglet             1   11288.0\n",
       "32174        DawgsOnTopUGA             1   10515.0\n",
       "40319  Flamo_the_Idiot_Boy             1   10289.0\n",
       "73570   haunted_cheesecake             1    9408.0\n",
       "...                    ...           ...       ...\n",
       "66769       beaucoupzombie             1       0.0\n",
       "47826           tmorgan175             1       0.0\n",
       "66756   someone_whos_noone             1       0.0\n",
       "66755               Onecho             1       0.0\n",
       "64350             BambiCNI             1       0.0\n",
       "\n",
       "[85838 rows x 3 columns]"
      ]
     },
     "execution_count": 145,
     "metadata": {},
     "output_type": "execute_result"
    }
   ],
   "source": [
    "author_df = df.groupby([\"author\"], as_index = False)['up_votes'].mean()\n",
    "author_upvotes_df = pd.merge(top25_df,author_df, on = 'author')\n",
    "author_upvotes_df.sort_values(by=['up_votes'], inplace=True, ascending = False)\n",
    "author_upvotes_df"
   ]
  },
  {
   "cell_type": "markdown",
   "metadata": {},
   "source": [
    "Here we can see that the top 25 authors based on average upvotes includes authors who have posted just one article. Therefore this might not be the best indicator and is skewed to people with lesser number of articles. A better indicator might be the sum of the upvotes for all aritcles they have posted"
   ]
  },
  {
   "cell_type": "code",
   "execution_count": 146,
   "metadata": {},
   "outputs": [
    {
     "data": {
      "text/html": [
       "<div>\n",
       "<style scoped>\n",
       "    .dataframe tbody tr th:only-of-type {\n",
       "        vertical-align: middle;\n",
       "    }\n",
       "\n",
       "    .dataframe tbody tr th {\n",
       "        vertical-align: top;\n",
       "    }\n",
       "\n",
       "    .dataframe thead th {\n",
       "        text-align: right;\n",
       "    }\n",
       "</style>\n",
       "<table border=\"1\" class=\"dataframe\">\n",
       "  <thead>\n",
       "    <tr style=\"text-align: right;\">\n",
       "      <th></th>\n",
       "      <th>author</th>\n",
       "      <th>num_articles</th>\n",
       "      <th>up_votes</th>\n",
       "    </tr>\n",
       "  </thead>\n",
       "  <tbody>\n",
       "    <tr>\n",
       "      <th>3</th>\n",
       "      <td>maxwellhill</td>\n",
       "      <td>4023</td>\n",
       "      <td>1985416</td>\n",
       "    </tr>\n",
       "    <tr>\n",
       "      <th>1</th>\n",
       "      <td>anutensil</td>\n",
       "      <td>5730</td>\n",
       "      <td>1531544</td>\n",
       "    </tr>\n",
       "    <tr>\n",
       "      <th>14</th>\n",
       "      <td>Libertatea</td>\n",
       "      <td>2108</td>\n",
       "      <td>832102</td>\n",
       "    </tr>\n",
       "    <tr>\n",
       "      <th>2</th>\n",
       "      <td>DoremusJessup</td>\n",
       "      <td>5037</td>\n",
       "      <td>584380</td>\n",
       "    </tr>\n",
       "    <tr>\n",
       "      <th>23</th>\n",
       "      <td>Wagamaga</td>\n",
       "      <td>1490</td>\n",
       "      <td>580121</td>\n",
       "    </tr>\n",
       "    <tr>\n",
       "      <th>11</th>\n",
       "      <td>NinjaDiscoJesus</td>\n",
       "      <td>2448</td>\n",
       "      <td>492582</td>\n",
       "    </tr>\n",
       "    <tr>\n",
       "      <th>9</th>\n",
       "      <td>madazzahatter</td>\n",
       "      <td>2503</td>\n",
       "      <td>428966</td>\n",
       "    </tr>\n",
       "    <tr>\n",
       "      <th>7</th>\n",
       "      <td>madam1</td>\n",
       "      <td>2658</td>\n",
       "      <td>390541</td>\n",
       "    </tr>\n",
       "    <tr>\n",
       "      <th>0</th>\n",
       "      <td>davidreiss666</td>\n",
       "      <td>8897</td>\n",
       "      <td>338306</td>\n",
       "    </tr>\n",
       "    <tr>\n",
       "      <th>27</th>\n",
       "      <td>kulkke</td>\n",
       "      <td>1199</td>\n",
       "      <td>333311</td>\n",
       "    </tr>\n",
       "    <tr>\n",
       "      <th>21</th>\n",
       "      <td>pnewell</td>\n",
       "      <td>1562</td>\n",
       "      <td>297270</td>\n",
       "    </tr>\n",
       "    <tr>\n",
       "      <th>8</th>\n",
       "      <td>nimobo</td>\n",
       "      <td>2564</td>\n",
       "      <td>266733</td>\n",
       "    </tr>\n",
       "    <tr>\n",
       "      <th>19</th>\n",
       "      <td>trot-trot</td>\n",
       "      <td>1649</td>\n",
       "      <td>258367</td>\n",
       "    </tr>\n",
       "    <tr>\n",
       "      <th>10</th>\n",
       "      <td>ionised</td>\n",
       "      <td>2493</td>\n",
       "      <td>256159</td>\n",
       "    </tr>\n",
       "    <tr>\n",
       "      <th>26</th>\n",
       "      <td>EightRoundsRapid</td>\n",
       "      <td>1223</td>\n",
       "      <td>254670</td>\n",
       "    </tr>\n",
       "    <tr>\n",
       "      <th>6</th>\n",
       "      <td>twolf1</td>\n",
       "      <td>2923</td>\n",
       "      <td>230031</td>\n",
       "    </tr>\n",
       "    <tr>\n",
       "      <th>58</th>\n",
       "      <td>mepper</td>\n",
       "      <td>699</td>\n",
       "      <td>223369</td>\n",
       "    </tr>\n",
       "    <tr>\n",
       "      <th>28</th>\n",
       "      <td>PanAfrica</td>\n",
       "      <td>1183</td>\n",
       "      <td>219742</td>\n",
       "    </tr>\n",
       "    <tr>\n",
       "      <th>5</th>\n",
       "      <td>readerseven</td>\n",
       "      <td>3170</td>\n",
       "      <td>209225</td>\n",
       "    </tr>\n",
       "    <tr>\n",
       "      <th>66</th>\n",
       "      <td>green_flash</td>\n",
       "      <td>638</td>\n",
       "      <td>205554</td>\n",
       "    </tr>\n",
       "    <tr>\n",
       "      <th>17</th>\n",
       "      <td>DougBolivar</td>\n",
       "      <td>1770</td>\n",
       "      <td>199830</td>\n",
       "    </tr>\n",
       "    <tr>\n",
       "      <th>40</th>\n",
       "      <td>i_love_fsa</td>\n",
       "      <td>952</td>\n",
       "      <td>187697</td>\n",
       "    </tr>\n",
       "    <tr>\n",
       "      <th>22</th>\n",
       "      <td>XKryptonite</td>\n",
       "      <td>1516</td>\n",
       "      <td>173604</td>\n",
       "    </tr>\n",
       "    <tr>\n",
       "      <th>157</th>\n",
       "      <td>tehgerbil</td>\n",
       "      <td>313</td>\n",
       "      <td>161895</td>\n",
       "    </tr>\n",
       "    <tr>\n",
       "      <th>86</th>\n",
       "      <td>the_last_broadcast</td>\n",
       "      <td>514</td>\n",
       "      <td>154012</td>\n",
       "    </tr>\n",
       "  </tbody>\n",
       "</table>\n",
       "</div>"
      ],
      "text/plain": [
       "                 author  num_articles  up_votes\n",
       "3           maxwellhill          4023   1985416\n",
       "1             anutensil          5730   1531544\n",
       "14           Libertatea          2108    832102\n",
       "2         DoremusJessup          5037    584380\n",
       "23             Wagamaga          1490    580121\n",
       "11      NinjaDiscoJesus          2448    492582\n",
       "9         madazzahatter          2503    428966\n",
       "7                madam1          2658    390541\n",
       "0         davidreiss666          8897    338306\n",
       "27               kulkke          1199    333311\n",
       "21              pnewell          1562    297270\n",
       "8                nimobo          2564    266733\n",
       "19            trot-trot          1649    258367\n",
       "10              ionised          2493    256159\n",
       "26     EightRoundsRapid          1223    254670\n",
       "6                twolf1          2923    230031\n",
       "58               mepper           699    223369\n",
       "28            PanAfrica          1183    219742\n",
       "5           readerseven          3170    209225\n",
       "66          green_flash           638    205554\n",
       "17          DougBolivar          1770    199830\n",
       "40           i_love_fsa           952    187697\n",
       "22          XKryptonite          1516    173604\n",
       "157           tehgerbil           313    161895\n",
       "86   the_last_broadcast           514    154012"
      ]
     },
     "execution_count": 146,
     "metadata": {},
     "output_type": "execute_result"
    }
   ],
   "source": [
    "new_author_df = df.groupby([\"author\"],as_index = False)['up_votes'].sum()\n",
    "new_author_upvotes_df = pd.merge(top25_df,new_author_df, on = 'author')\n",
    "new_author_upvotes_df.sort_values(by=['up_votes'], inplace=True, ascending = False)\n",
    "final_author_df = new_author_upvotes_df.head(25)\n",
    "final_author_df"
   ]
  },
  {
   "cell_type": "markdown",
   "metadata": {},
   "source": [
    "## Plotting the sum of upvotes per author"
   ]
  },
  {
   "cell_type": "code",
   "execution_count": 147,
   "metadata": {},
   "outputs": [
    {
     "data": {
      "text/plain": [
       "<matplotlib.axes._subplots.AxesSubplot at 0x1a67d14650>"
      ]
     },
     "execution_count": 147,
     "metadata": {},
     "output_type": "execute_result"
    },
    {
     "data": {
      "image/png": "[encoded data removed]",
      "text/plain": [
       "<Figure size 1080x1080 with 1 Axes>"
      ]
     },
     "metadata": {
      "needs_background": "light"
     },
     "output_type": "display_data"
    }
   ],
   "source": [
    "plt.figure(figsize=(15, 15))\n",
    "sns.barplot(y = final_author_df[\"author\"], x = final_author_df[\"up_votes\"])"
   ]
  },
  {
   "cell_type": "markdown",
   "metadata": {},
   "source": [
    "Here, we have a visualization of the top 25 authors in terms of the sum of upvotes. From the analysis above, we can see that there is no direct correlation between the number of articles posted by the author and the sum of their upvotes, since we can see that this list also includes authors with 699 articles as well as 8897 articles"
   ]
  },
  {
   "cell_type": "markdown",
   "metadata": {},
   "source": [
    "## Analysing the text in the headlines"
   ]
  },
  {
   "cell_type": "markdown",
   "metadata": {},
   "source": [
    "Now, we will focus on analysing the text in the headlines of the articles. Through this practice, I am trying to understand/predict the text in the headlines and how it relates to the upvotes"
   ]
  },
  {
   "cell_type": "markdown",
   "metadata": {},
   "source": [
    "### Find the top 100 headlines based on upvotes"
   ]
  },
  {
   "cell_type": "code",
   "execution_count": 148,
   "metadata": {},
   "outputs": [
    {
     "data": {
      "text/html": [
       "<div>\n",
       "<style scoped>\n",
       "    .dataframe tbody tr th:only-of-type {\n",
       "        vertical-align: middle;\n",
       "    }\n",
       "\n",
       "    .dataframe tbody tr th {\n",
       "        vertical-align: top;\n",
       "    }\n",
       "\n",
       "    .dataframe thead th {\n",
       "        text-align: right;\n",
       "    }\n",
       "</style>\n",
       "<table border=\"1\" class=\"dataframe\">\n",
       "  <thead>\n",
       "    <tr style=\"text-align: right;\">\n",
       "      <th></th>\n",
       "      <th>time_created</th>\n",
       "      <th>date_created</th>\n",
       "      <th>up_votes</th>\n",
       "      <th>down_votes</th>\n",
       "      <th>title</th>\n",
       "      <th>over_18</th>\n",
       "      <th>author</th>\n",
       "      <th>category</th>\n",
       "      <th>year</th>\n",
       "      <th>day</th>\n",
       "    </tr>\n",
       "  </thead>\n",
       "  <tbody>\n",
       "    <tr>\n",
       "      <th>377200</th>\n",
       "      <td>1970-01-01 00:00:01.434818471</td>\n",
       "      <td>2015-06-20</td>\n",
       "      <td>21253</td>\n",
       "      <td>0</td>\n",
       "      <td>A biotech startup has managed to 3-D print fak...</td>\n",
       "      <td>False</td>\n",
       "      <td>KRISHNA53</td>\n",
       "      <td>worldnews</td>\n",
       "      <td>2015</td>\n",
       "      <td>Saturday</td>\n",
       "    </tr>\n",
       "    <tr>\n",
       "      <th>391415</th>\n",
       "      <td>1970-01-01 00:00:01.440421079</td>\n",
       "      <td>2015-08-24</td>\n",
       "      <td>13435</td>\n",
       "      <td>0</td>\n",
       "      <td>Twitter has forced 30 websites that archive po...</td>\n",
       "      <td>False</td>\n",
       "      <td>joeyoungblood</td>\n",
       "      <td>worldnews</td>\n",
       "      <td>2015</td>\n",
       "      <td>Monday</td>\n",
       "    </tr>\n",
       "    <tr>\n",
       "      <th>450818</th>\n",
       "      <td>1970-01-01 00:00:01.459706506</td>\n",
       "      <td>2016-04-03</td>\n",
       "      <td>13244</td>\n",
       "      <td>0</td>\n",
       "      <td>2.6 terabyte leak of Panamanian shell company ...</td>\n",
       "      <td>False</td>\n",
       "      <td>mister_geaux</td>\n",
       "      <td>worldnews</td>\n",
       "      <td>2016</td>\n",
       "      <td>Sunday</td>\n",
       "    </tr>\n",
       "    <tr>\n",
       "      <th>391318</th>\n",
       "      <td>1970-01-01 00:00:01.440367768</td>\n",
       "      <td>2015-08-23</td>\n",
       "      <td>12333</td>\n",
       "      <td>0</td>\n",
       "      <td>The police officer who leaked the footage of t...</td>\n",
       "      <td>False</td>\n",
       "      <td>navysealassulter</td>\n",
       "      <td>worldnews</td>\n",
       "      <td>2015</td>\n",
       "      <td>Sunday</td>\n",
       "    </tr>\n",
       "    <tr>\n",
       "      <th>390252</th>\n",
       "      <td>1970-01-01 00:00:01.439939168</td>\n",
       "      <td>2015-08-18</td>\n",
       "      <td>11288</td>\n",
       "      <td>0</td>\n",
       "      <td>Paris shooting survivor suing French media for...</td>\n",
       "      <td>False</td>\n",
       "      <td>seapiglet</td>\n",
       "      <td>worldnews</td>\n",
       "      <td>2015</td>\n",
       "      <td>Tuesday</td>\n",
       "    </tr>\n",
       "    <tr>\n",
       "      <th>...</th>\n",
       "      <td>...</td>\n",
       "      <td>...</td>\n",
       "      <td>...</td>\n",
       "      <td>...</td>\n",
       "      <td>...</td>\n",
       "      <td>...</td>\n",
       "      <td>...</td>\n",
       "      <td>...</td>\n",
       "      <td>...</td>\n",
       "      <td>...</td>\n",
       "    </tr>\n",
       "    <tr>\n",
       "      <th>457257</th>\n",
       "      <td>1970-01-01 00:00:01.461844338</td>\n",
       "      <td>2016-04-28</td>\n",
       "      <td>7752</td>\n",
       "      <td>0</td>\n",
       "      <td>Airstrike destroys Doctors Without Borders hos...</td>\n",
       "      <td>False</td>\n",
       "      <td>Quincy6533</td>\n",
       "      <td>worldnews</td>\n",
       "      <td>2016</td>\n",
       "      <td>Thursday</td>\n",
       "    </tr>\n",
       "    <tr>\n",
       "      <th>488122</th>\n",
       "      <td>1970-01-01 00:00:01.472491944</td>\n",
       "      <td>2016-08-29</td>\n",
       "      <td>7727</td>\n",
       "      <td>0</td>\n",
       "      <td>A decade on, vaccine has halved cervical cance...</td>\n",
       "      <td>False</td>\n",
       "      <td>NinjaDiscoJesus</td>\n",
       "      <td>worldnews</td>\n",
       "      <td>2016</td>\n",
       "      <td>Monday</td>\n",
       "    </tr>\n",
       "    <tr>\n",
       "      <th>455267</th>\n",
       "      <td>1970-01-01 00:00:01.461186902</td>\n",
       "      <td>2016-04-20</td>\n",
       "      <td>7724</td>\n",
       "      <td>0</td>\n",
       "      <td>Declassified memo shows multiple Saudi connect...</td>\n",
       "      <td>False</td>\n",
       "      <td>CumcastXXXfinity</td>\n",
       "      <td>worldnews</td>\n",
       "      <td>2016</td>\n",
       "      <td>Wednesday</td>\n",
       "    </tr>\n",
       "    <tr>\n",
       "      <th>496164</th>\n",
       "      <td>1970-01-01 00:00:01.475344901</td>\n",
       "      <td>2016-10-01</td>\n",
       "      <td>7724</td>\n",
       "      <td>0</td>\n",
       "      <td>South Korean President Park Geun-hye has calle...</td>\n",
       "      <td>False</td>\n",
       "      <td>_Perfectionist</td>\n",
       "      <td>worldnews</td>\n",
       "      <td>2016</td>\n",
       "      <td>Saturday</td>\n",
       "    </tr>\n",
       "    <tr>\n",
       "      <th>498667</th>\n",
       "      <td>1970-01-01 00:00:01.476129213</td>\n",
       "      <td>2016-10-10</td>\n",
       "      <td>7722</td>\n",
       "      <td>0</td>\n",
       "      <td>Haitians are urging people not to give money t...</td>\n",
       "      <td>False</td>\n",
       "      <td>Aerest</td>\n",
       "      <td>worldnews</td>\n",
       "      <td>2016</td>\n",
       "      <td>Monday</td>\n",
       "    </tr>\n",
       "  </tbody>\n",
       "</table>\n",
       "<p>100 rows × 10 columns</p>\n",
       "</div>"
      ],
      "text/plain": [
       "                        time_created date_created  up_votes  down_votes  \\\n",
       "377200 1970-01-01 00:00:01.434818471   2015-06-20     21253           0   \n",
       "391415 1970-01-01 00:00:01.440421079   2015-08-24     13435           0   \n",
       "450818 1970-01-01 00:00:01.459706506   2016-04-03     13244           0   \n",
       "391318 1970-01-01 00:00:01.440367768   2015-08-23     12333           0   \n",
       "390252 1970-01-01 00:00:01.439939168   2015-08-18     11288           0   \n",
       "...                              ...          ...       ...         ...   \n",
       "457257 1970-01-01 00:00:01.461844338   2016-04-28      7752           0   \n",
       "488122 1970-01-01 00:00:01.472491944   2016-08-29      7727           0   \n",
       "455267 1970-01-01 00:00:01.461186902   2016-04-20      7724           0   \n",
       "496164 1970-01-01 00:00:01.475344901   2016-10-01      7724           0   \n",
       "498667 1970-01-01 00:00:01.476129213   2016-10-10      7722           0   \n",
       "\n",
       "                                                    title  over_18  \\\n",
       "377200  A biotech startup has managed to 3-D print fak...    False   \n",
       "391415  Twitter has forced 30 websites that archive po...    False   \n",
       "450818  2.6 terabyte leak of Panamanian shell company ...    False   \n",
       "391318  The police officer who leaked the footage of t...    False   \n",
       "390252  Paris shooting survivor suing French media for...    False   \n",
       "...                                                   ...      ...   \n",
       "457257  Airstrike destroys Doctors Without Borders hos...    False   \n",
       "488122  A decade on, vaccine has halved cervical cance...    False   \n",
       "455267  Declassified memo shows multiple Saudi connect...    False   \n",
       "496164  South Korean President Park Geun-hye has calle...    False   \n",
       "498667  Haitians are urging people not to give money t...    False   \n",
       "\n",
       "                  author   category  year        day  \n",
       "377200         KRISHNA53  worldnews  2015   Saturday  \n",
       "391415     joeyoungblood  worldnews  2015     Monday  \n",
       "450818      mister_geaux  worldnews  2016     Sunday  \n",
       "391318  navysealassulter  worldnews  2015     Sunday  \n",
       "390252         seapiglet  worldnews  2015    Tuesday  \n",
       "...                  ...        ...   ...        ...  \n",
       "457257        Quincy6533  worldnews  2016   Thursday  \n",
       "488122   NinjaDiscoJesus  worldnews  2016     Monday  \n",
       "455267  CumcastXXXfinity  worldnews  2016  Wednesday  \n",
       "496164    _Perfectionist  worldnews  2016   Saturday  \n",
       "498667            Aerest  worldnews  2016     Monday  \n",
       "\n",
       "[100 rows x 10 columns]"
      ]
     },
     "execution_count": 148,
     "metadata": {},
     "output_type": "execute_result"
    }
   ],
   "source": [
    "top_100_headlines = df.nlargest(100, 'up_votes')\n",
    "top_100_headlines"
   ]
  },
  {
   "cell_type": "markdown",
   "metadata": {},
   "source": [
    "### Find the top 50 words in terms of their frequency in the top 100 headlines"
   ]
  },
  {
   "cell_type": "code",
   "execution_count": 199,
   "metadata": {},
   "outputs": [],
   "source": [
    "top_100 = prepare_text(top_100_headlines)\n",
    "top_100\n",
    "from collections import Counter\n",
    "cnt = top_100.apply(lambda x:Counter(x['lemmatized']),axis=1).sum()\n",
    "top_50_words = cnt.most_common(50)\n",
    "top_50_words_df = pd.DataFrame({'word_freq': top_50_words})\n",
    "word = []\n",
    "frequency = []\n",
    "for i in top_50_words_df['word_freq']:\n",
    "    new_word, new_freq = i\n",
    "    word.append(new_word)\n",
    "    frequency.append(new_freq)\n",
    "top_50_words_df['word'] = word\n",
    "top_50_words_df['freq'] = frequency\n",
    "top_50_words_df = top_50_words_df.drop(['word_freq'], axis = 1)\n",
    "top_50_words_df = top_50_words_df.drop(top_50_words_df.index[0])\n"
   ]
  },
  {
   "cell_type": "markdown",
   "metadata": {},
   "source": [
    "### Plot the top 50 words and their frequencies in the headlines"
   ]
  },
  {
   "cell_type": "markdown",
   "metadata": {},
   "source": [
    "I preffered to use a bar plot instead of a word cloud as the word cloud often does not portray the importance of smaller words well"
   ]
  },
  {
   "cell_type": "code",
   "execution_count": 201,
   "metadata": {},
   "outputs": [
    {
     "data": {
      "text/plain": [
       "<matplotlib.axes._subplots.AxesSubplot at 0x1a63dc4810>"
      ]
     },
     "execution_count": 201,
     "metadata": {},
     "output_type": "execute_result"
    },
    {
     "data": {
      "image/png": "[encoded data removed]",
      "text/plain": [
       "<Figure size 1080x1080 with 1 Axes>"
      ]
     },
     "metadata": {
      "needs_background": "light"
     },
     "output_type": "display_data"
    }
   ],
   "source": [
    "plt.figure(figsize=(15, 15))\n",
    "sns.barplot(y = top_50_words_df['word'],x = top_50_words_df['freq'])\n"
   ]
  },
  {
   "cell_type": "markdown",
   "metadata": {},
   "source": [
    "### Approach to analyze text data with NLP and building predictive models\n",
    "\n",
    "1)First we will tokenize the headlines, stem the words and lemmatize it to prepare our text\n",
    "\n",
    "2)Create a bag of words vector using this approach in NLP\n",
    "\n",
    "3)Train and score a model to predict the upvotes for a given headline"
   ]
  },
  {
   "cell_type": "code",
   "execution_count": null,
   "metadata": {},
   "outputs": [],
   "source": []
  },
  {
   "cell_type": "markdown",
   "metadata": {},
   "source": [
    "#### We will first stem and lemmatize our words before making our bag of words matrix"
   ]
  },
  {
   "cell_type": "code",
   "execution_count": 150,
   "metadata": {},
   "outputs": [],
   "source": [
    "list_stopwords = stopwords.words('english')\n",
    "stemmer = SnowballStemmer(language='english')\n",
    "wordnet_lemmatizer = WordNetLemmatizer()"
   ]
  },
  {
   "cell_type": "code",
   "execution_count": 151,
   "metadata": {},
   "outputs": [
    {
     "data": {
      "text/html": [
       "<div>\n",
       "<style scoped>\n",
       "    .dataframe tbody tr th:only-of-type {\n",
       "        vertical-align: middle;\n",
       "    }\n",
       "\n",
       "    .dataframe tbody tr th {\n",
       "        vertical-align: top;\n",
       "    }\n",
       "\n",
       "    .dataframe thead th {\n",
       "        text-align: right;\n",
       "    }\n",
       "</style>\n",
       "<table border=\"1\" class=\"dataframe\">\n",
       "  <thead>\n",
       "    <tr style=\"text-align: right;\">\n",
       "      <th></th>\n",
       "      <th>time_created</th>\n",
       "      <th>date_created</th>\n",
       "      <th>up_votes</th>\n",
       "      <th>down_votes</th>\n",
       "      <th>title</th>\n",
       "      <th>over_18</th>\n",
       "      <th>author</th>\n",
       "      <th>category</th>\n",
       "      <th>year</th>\n",
       "      <th>day</th>\n",
       "    </tr>\n",
       "  </thead>\n",
       "  <tbody>\n",
       "    <tr>\n",
       "      <th>231048</th>\n",
       "      <td>1970-01-01 00:00:01.385298088</td>\n",
       "      <td>2013-11-24</td>\n",
       "      <td>1</td>\n",
       "      <td>0</td>\n",
       "      <td>Israeli Leaders Decry Geneva Accord</td>\n",
       "      <td>False</td>\n",
       "      <td>dharmateja</td>\n",
       "      <td>worldnews</td>\n",
       "      <td>2013</td>\n",
       "      <td>Sunday</td>\n",
       "    </tr>\n",
       "    <tr>\n",
       "      <th>418777</th>\n",
       "      <td>1970-01-01 00:00:01.448966669</td>\n",
       "      <td>2015-12-01</td>\n",
       "      <td>6</td>\n",
       "      <td>0</td>\n",
       "      <td>U.S. Backed Rebels Continue to Fight One Anoth...</td>\n",
       "      <td>False</td>\n",
       "      <td>Versutas</td>\n",
       "      <td>worldnews</td>\n",
       "      <td>2015</td>\n",
       "      <td>Tuesday</td>\n",
       "    </tr>\n",
       "    <tr>\n",
       "      <th>412803</th>\n",
       "      <td>1970-01-01 00:00:01.447512473</td>\n",
       "      <td>2015-11-14</td>\n",
       "      <td>18</td>\n",
       "      <td>0</td>\n",
       "      <td>Man Arrested In Germany With Weapons In Car Ma...</td>\n",
       "      <td>False</td>\n",
       "      <td>middleeastnewsman</td>\n",
       "      <td>worldnews</td>\n",
       "      <td>2015</td>\n",
       "      <td>Saturday</td>\n",
       "    </tr>\n",
       "    <tr>\n",
       "      <th>349822</th>\n",
       "      <td>1970-01-01 00:00:01.425468653</td>\n",
       "      <td>2015-03-04</td>\n",
       "      <td>0</td>\n",
       "      <td>0</td>\n",
       "      <td>Netanyahu responds to Obama: We did indeed pre...</td>\n",
       "      <td>False</td>\n",
       "      <td>IBiteYou</td>\n",
       "      <td>worldnews</td>\n",
       "      <td>2015</td>\n",
       "      <td>Wednesday</td>\n",
       "    </tr>\n",
       "    <tr>\n",
       "      <th>18241</th>\n",
       "      <td>1970-01-01 00:00:01.225309084</td>\n",
       "      <td>2008-10-29</td>\n",
       "      <td>30</td>\n",
       "      <td>0</td>\n",
       "      <td>Gordon Brown s terror claims for ID cards are ...</td>\n",
       "      <td>False</td>\n",
       "      <td>igeldard</td>\n",
       "      <td>worldnews</td>\n",
       "      <td>2008</td>\n",
       "      <td>Wednesday</td>\n",
       "    </tr>\n",
       "    <tr>\n",
       "      <th>...</th>\n",
       "      <td>...</td>\n",
       "      <td>...</td>\n",
       "      <td>...</td>\n",
       "      <td>...</td>\n",
       "      <td>...</td>\n",
       "      <td>...</td>\n",
       "      <td>...</td>\n",
       "      <td>...</td>\n",
       "      <td>...</td>\n",
       "      <td>...</td>\n",
       "    </tr>\n",
       "    <tr>\n",
       "      <th>478578</th>\n",
       "      <td>1970-01-01 00:00:01.469085287</td>\n",
       "      <td>2016-07-21</td>\n",
       "      <td>5</td>\n",
       "      <td>0</td>\n",
       "      <td>Bangladesh forces arrest JMB leader Mahmudul H...</td>\n",
       "      <td>False</td>\n",
       "      <td>Williameiok</td>\n",
       "      <td>worldnews</td>\n",
       "      <td>2016</td>\n",
       "      <td>Thursday</td>\n",
       "    </tr>\n",
       "    <tr>\n",
       "      <th>398554</th>\n",
       "      <td>1970-01-01 00:00:01.443011983</td>\n",
       "      <td>2015-09-23</td>\n",
       "      <td>2</td>\n",
       "      <td>0</td>\n",
       "      <td>Egypt’s Sisi pardons 100 prisoners, including ...</td>\n",
       "      <td>False</td>\n",
       "      <td>nirataro</td>\n",
       "      <td>worldnews</td>\n",
       "      <td>2015</td>\n",
       "      <td>Wednesday</td>\n",
       "    </tr>\n",
       "    <tr>\n",
       "      <th>45887</th>\n",
       "      <td>1970-01-01 00:00:01.259324883</td>\n",
       "      <td>2009-11-27</td>\n",
       "      <td>95</td>\n",
       "      <td>0</td>\n",
       "      <td>What I saw was a bunch of filled-in trenches ...</td>\n",
       "      <td>False</td>\n",
       "      <td>SolInvictus</td>\n",
       "      <td>worldnews</td>\n",
       "      <td>2009</td>\n",
       "      <td>Friday</td>\n",
       "    </tr>\n",
       "    <tr>\n",
       "      <th>343879</th>\n",
       "      <td>1970-01-01 00:00:01.423683909</td>\n",
       "      <td>2015-02-11</td>\n",
       "      <td>33</td>\n",
       "      <td>0</td>\n",
       "      <td>Durban University of Technology s SRC calls fo...</td>\n",
       "      <td>False</td>\n",
       "      <td>pitmot</td>\n",
       "      <td>worldnews</td>\n",
       "      <td>2015</td>\n",
       "      <td>Wednesday</td>\n",
       "    </tr>\n",
       "    <tr>\n",
       "      <th>316309</th>\n",
       "      <td>1970-01-01 00:00:01.413925913</td>\n",
       "      <td>2014-10-21</td>\n",
       "      <td>9</td>\n",
       "      <td>0</td>\n",
       "      <td>Reuters: EU approval of Russian pipeline would...</td>\n",
       "      <td>False</td>\n",
       "      <td>vigorous</td>\n",
       "      <td>worldnews</td>\n",
       "      <td>2014</td>\n",
       "      <td>Tuesday</td>\n",
       "    </tr>\n",
       "  </tbody>\n",
       "</table>\n",
       "<p>50924 rows × 10 columns</p>\n",
       "</div>"
      ],
      "text/plain": [
       "                        time_created date_created  up_votes  down_votes  \\\n",
       "231048 1970-01-01 00:00:01.385298088   2013-11-24         1           0   \n",
       "418777 1970-01-01 00:00:01.448966669   2015-12-01         6           0   \n",
       "412803 1970-01-01 00:00:01.447512473   2015-11-14        18           0   \n",
       "349822 1970-01-01 00:00:01.425468653   2015-03-04         0           0   \n",
       "18241  1970-01-01 00:00:01.225309084   2008-10-29        30           0   \n",
       "...                              ...          ...       ...         ...   \n",
       "478578 1970-01-01 00:00:01.469085287   2016-07-21         5           0   \n",
       "398554 1970-01-01 00:00:01.443011983   2015-09-23         2           0   \n",
       "45887  1970-01-01 00:00:01.259324883   2009-11-27        95           0   \n",
       "343879 1970-01-01 00:00:01.423683909   2015-02-11        33           0   \n",
       "316309 1970-01-01 00:00:01.413925913   2014-10-21         9           0   \n",
       "\n",
       "                                                    title  over_18  \\\n",
       "231048                Israeli Leaders Decry Geneva Accord    False   \n",
       "418777  U.S. Backed Rebels Continue to Fight One Anoth...    False   \n",
       "412803  Man Arrested In Germany With Weapons In Car Ma...    False   \n",
       "349822  Netanyahu responds to Obama: We did indeed pre...    False   \n",
       "18241   Gordon Brown s terror claims for ID cards are ...    False   \n",
       "...                                                   ...      ...   \n",
       "478578  Bangladesh forces arrest JMB leader Mahmudul H...    False   \n",
       "398554  Egypt’s Sisi pardons 100 prisoners, including ...    False   \n",
       "45887    What I saw was a bunch of filled-in trenches ...    False   \n",
       "343879  Durban University of Technology s SRC calls fo...    False   \n",
       "316309  Reuters: EU approval of Russian pipeline would...    False   \n",
       "\n",
       "                   author   category  year        day  \n",
       "231048         dharmateja  worldnews  2013     Sunday  \n",
       "418777           Versutas  worldnews  2015    Tuesday  \n",
       "412803  middleeastnewsman  worldnews  2015   Saturday  \n",
       "349822           IBiteYou  worldnews  2015  Wednesday  \n",
       "18241            igeldard  worldnews  2008  Wednesday  \n",
       "...                   ...        ...   ...        ...  \n",
       "478578        Williameiok  worldnews  2016   Thursday  \n",
       "398554           nirataro  worldnews  2015  Wednesday  \n",
       "45887         SolInvictus  worldnews  2009     Friday  \n",
       "343879             pitmot  worldnews  2015  Wednesday  \n",
       "316309           vigorous  worldnews  2014    Tuesday  \n",
       "\n",
       "[50924 rows x 10 columns]"
      ]
     },
     "execution_count": 151,
     "metadata": {},
     "output_type": "execute_result"
    }
   ],
   "source": [
    "sample = df.sample(frac=0.1, random_state=0)\n",
    "sample"
   ]
  },
  {
   "cell_type": "markdown",
   "metadata": {},
   "source": [
    "### Preparing the text by tokenization, stemming and lemmatization and applying it to our data frame"
   ]
  },
  {
   "cell_type": "code",
   "execution_count": 152,
   "metadata": {},
   "outputs": [],
   "source": [
    "def prepare_text(df):\n",
    "    df[\"title\"] = df[\"title\"].apply(str)\n",
    "    \n",
    "    df['title'] = df['title'].str.replace('\\d+', '') # for removing digits\n",
    "    df['title'] = df['title'].str.replace(r'(\\b\\w{1,2}\\b)', '') # for removing words less than 3 characters\n",
    "    df['title'] = df['title'].str.replace('[^\\w\\s]', '') # for removing punctuation \n",
    "    \n",
    "    \n",
    "    df['tokenized_headlines'] = df['title'].apply(nltk.word_tokenize) \n",
    "    df['stemmed'] = df['tokenized_headlines'].apply(lambda x: [stemmer.stem(y) for y in x if y not in list_stopwords])\n",
    "    df['lemmatized'] = df['stemmed'].apply(lambda x: [wordnet_lemmatizer.lemmatize(y,'v') for y in x])\n",
    "    \n",
    "    return df"
   ]
  },
  {
   "cell_type": "code",
   "execution_count": 20,
   "metadata": {},
   "outputs": [
    {
     "data": {
      "text/html": [
       "<div>\n",
       "<style scoped>\n",
       "    .dataframe tbody tr th:only-of-type {\n",
       "        vertical-align: middle;\n",
       "    }\n",
       "\n",
       "    .dataframe tbody tr th {\n",
       "        vertical-align: top;\n",
       "    }\n",
       "\n",
       "    .dataframe thead th {\n",
       "        text-align: right;\n",
       "    }\n",
       "</style>\n",
       "<table border=\"1\" class=\"dataframe\">\n",
       "  <thead>\n",
       "    <tr style=\"text-align: right;\">\n",
       "      <th></th>\n",
       "      <th>time_created</th>\n",
       "      <th>date_created</th>\n",
       "      <th>up_votes</th>\n",
       "      <th>down_votes</th>\n",
       "      <th>title</th>\n",
       "      <th>over_18</th>\n",
       "      <th>author</th>\n",
       "      <th>category</th>\n",
       "      <th>year</th>\n",
       "      <th>day</th>\n",
       "      <th>tokenized_headlines</th>\n",
       "      <th>stemmed</th>\n",
       "      <th>lemmatized</th>\n",
       "    </tr>\n",
       "  </thead>\n",
       "  <tbody>\n",
       "    <tr>\n",
       "      <th>231048</th>\n",
       "      <td>1970-01-01 00:00:01.385298088</td>\n",
       "      <td>2013-11-24</td>\n",
       "      <td>1</td>\n",
       "      <td>0</td>\n",
       "      <td>Israeli Leaders Decry Geneva Accord</td>\n",
       "      <td>False</td>\n",
       "      <td>dharmateja</td>\n",
       "      <td>worldnews</td>\n",
       "      <td>2013</td>\n",
       "      <td>Sunday</td>\n",
       "      <td>[Israeli, Leaders, Decry, Geneva, Accord]</td>\n",
       "      <td>[isra, leader, decri, geneva, accord]</td>\n",
       "      <td>[isra, leader, decri, geneva, accord]</td>\n",
       "    </tr>\n",
       "    <tr>\n",
       "      <th>418777</th>\n",
       "      <td>1970-01-01 00:00:01.448966669</td>\n",
       "      <td>2015-12-01</td>\n",
       "      <td>6</td>\n",
       "      <td>0</td>\n",
       "      <td>Backed Rebels Continue  Fight One Another  Nu...</td>\n",
       "      <td>False</td>\n",
       "      <td>Versutas</td>\n",
       "      <td>worldnews</td>\n",
       "      <td>2015</td>\n",
       "      <td>Tuesday</td>\n",
       "      <td>[Backed, Rebels, Continue, Fight, One, Another...</td>\n",
       "      <td>[back, rebel, continu, fight, one, anoth, nusr...</td>\n",
       "      <td>[back, rebel, continu, fight, one, anoth, nusr...</td>\n",
       "    </tr>\n",
       "    <tr>\n",
       "      <th>412803</th>\n",
       "      <td>1970-01-01 00:00:01.447512473</td>\n",
       "      <td>2015-11-14</td>\n",
       "      <td>18</td>\n",
       "      <td>0</td>\n",
       "      <td>Man Arrested  Germany With Weapons  Car May Ha...</td>\n",
       "      <td>False</td>\n",
       "      <td>middleeastnewsman</td>\n",
       "      <td>worldnews</td>\n",
       "      <td>2015</td>\n",
       "      <td>Saturday</td>\n",
       "      <td>[Man, Arrested, Germany, With, Weapons, Car, M...</td>\n",
       "      <td>[man, arrest, germani, with, weapon, car, may,...</td>\n",
       "      <td>[man, arrest, germani, with, weapon, car, may,...</td>\n",
       "    </tr>\n",
       "    <tr>\n",
       "      <th>349822</th>\n",
       "      <td>1970-01-01 00:00:01.425468653</td>\n",
       "      <td>2015-03-04</td>\n",
       "      <td>0</td>\n",
       "      <td>0</td>\n",
       "      <td>Netanyahu responds  Obama  did indeed present ...</td>\n",
       "      <td>False</td>\n",
       "      <td>IBiteYou</td>\n",
       "      <td>worldnews</td>\n",
       "      <td>2015</td>\n",
       "      <td>Wednesday</td>\n",
       "      <td>[Netanyahu, responds, Obama, did, indeed, pres...</td>\n",
       "      <td>[netanyahu, respond, obama, inde, present, pra...</td>\n",
       "      <td>[netanyahu, respond, obama, inde, present, pra...</td>\n",
       "    </tr>\n",
       "    <tr>\n",
       "      <th>18241</th>\n",
       "      <td>1970-01-01 00:00:01.225309084</td>\n",
       "      <td>2008-10-29</td>\n",
       "      <td>30</td>\n",
       "      <td>0</td>\n",
       "      <td>Gordon Brown  terror claims for  cards are  bu...</td>\n",
       "      <td>False</td>\n",
       "      <td>igeldard</td>\n",
       "      <td>worldnews</td>\n",
       "      <td>2008</td>\n",
       "      <td>Wednesday</td>\n",
       "      <td>[Gordon, Brown, terror, claims, for, cards, ar...</td>\n",
       "      <td>[gordon, brown, terror, claim, card, bunkum, s...</td>\n",
       "      <td>[gordon, brown, terror, claim, card, bunkum, s...</td>\n",
       "    </tr>\n",
       "    <tr>\n",
       "      <th>...</th>\n",
       "      <td>...</td>\n",
       "      <td>...</td>\n",
       "      <td>...</td>\n",
       "      <td>...</td>\n",
       "      <td>...</td>\n",
       "      <td>...</td>\n",
       "      <td>...</td>\n",
       "      <td>...</td>\n",
       "      <td>...</td>\n",
       "      <td>...</td>\n",
       "      <td>...</td>\n",
       "      <td>...</td>\n",
       "      <td>...</td>\n",
       "    </tr>\n",
       "    <tr>\n",
       "      <th>23537</th>\n",
       "      <td>1970-01-01 00:00:01.231694206</td>\n",
       "      <td>2009-01-11</td>\n",
       "      <td>0</td>\n",
       "      <td>0</td>\n",
       "      <td>thwarts Israeli plan  bomb Iranian nuclear fa...</td>\n",
       "      <td>False</td>\n",
       "      <td>yoda17</td>\n",
       "      <td>worldnews</td>\n",
       "      <td>2009</td>\n",
       "      <td>Sunday</td>\n",
       "      <td>[thwarts, Israeli, plan, bomb, Iranian, nuclea...</td>\n",
       "      <td>[thwart, isra, plan, bomb, iranian, nuclear, f...</td>\n",
       "      <td>[thwart, isra, plan, bomb, iranian, nuclear, f...</td>\n",
       "    </tr>\n",
       "    <tr>\n",
       "      <th>464079</th>\n",
       "      <td>1970-01-01 00:00:01.464186222</td>\n",
       "      <td>2016-05-25</td>\n",
       "      <td>2</td>\n",
       "      <td>0</td>\n",
       "      <td>Germany renewables electricity generation grow...</td>\n",
       "      <td>False</td>\n",
       "      <td>JackassWhisperer</td>\n",
       "      <td>worldnews</td>\n",
       "      <td>2016</td>\n",
       "      <td>Wednesday</td>\n",
       "      <td>[Germany, renewables, electricity, generation,...</td>\n",
       "      <td>[germani, renew, electr, generat, grow, coal, ...</td>\n",
       "      <td>[germani, renew, electr, generat, grow, coal, ...</td>\n",
       "    </tr>\n",
       "    <tr>\n",
       "      <th>70377</th>\n",
       "      <td>1970-01-01 00:00:01.293228034</td>\n",
       "      <td>2010-12-24</td>\n",
       "      <td>0</td>\n",
       "      <td>0</td>\n",
       "      <td>Pajamas Media  Iran Just Shipped Missiles  Ven...</td>\n",
       "      <td>False</td>\n",
       "      <td>dbe944</td>\n",
       "      <td>worldnews</td>\n",
       "      <td>2010</td>\n",
       "      <td>Friday</td>\n",
       "      <td>[Pajamas, Media, Iran, Just, Shipped, Missiles...</td>\n",
       "      <td>[pajama, media, iran, just, ship, missil, vene...</td>\n",
       "      <td>[pajama, media, iran, just, ship, missil, vene...</td>\n",
       "    </tr>\n",
       "    <tr>\n",
       "      <th>449772</th>\n",
       "      <td>1970-01-01 00:00:01.459330197</td>\n",
       "      <td>2016-03-30</td>\n",
       "      <td>3</td>\n",
       "      <td>0</td>\n",
       "      <td>Korea Iran officials  meet over economy  Korea</td>\n",
       "      <td>False</td>\n",
       "      <td>elusive_newsman</td>\n",
       "      <td>worldnews</td>\n",
       "      <td>2016</td>\n",
       "      <td>Wednesday</td>\n",
       "      <td>[Korea, Iran, officials, meet, over, economy, ...</td>\n",
       "      <td>[korea, iran, offici, meet, economi, korea]</td>\n",
       "      <td>[korea, iran, offici, meet, economi, korea]</td>\n",
       "    </tr>\n",
       "    <tr>\n",
       "      <th>34157</th>\n",
       "      <td>1970-01-01 00:00:01.241698384</td>\n",
       "      <td>2009-05-07</td>\n",
       "      <td>0</td>\n",
       "      <td>0</td>\n",
       "      <td>Street  positions itself with Obama and again...</td>\n",
       "      <td>False</td>\n",
       "      <td>MrHappyMan</td>\n",
       "      <td>worldnews</td>\n",
       "      <td>2009</td>\n",
       "      <td>Thursday</td>\n",
       "      <td>[Street, positions, itself, with, Obama, and, ...</td>\n",
       "      <td>[street, posit, obama, aipac]</td>\n",
       "      <td>[street, posit, obama, aipac]</td>\n",
       "    </tr>\n",
       "  </tbody>\n",
       "</table>\n",
       "<p>5092 rows × 13 columns</p>\n",
       "</div>"
      ],
      "text/plain": [
       "                        time_created date_created  up_votes  down_votes  \\\n",
       "231048 1970-01-01 00:00:01.385298088   2013-11-24         1           0   \n",
       "418777 1970-01-01 00:00:01.448966669   2015-12-01         6           0   \n",
       "412803 1970-01-01 00:00:01.447512473   2015-11-14        18           0   \n",
       "349822 1970-01-01 00:00:01.425468653   2015-03-04         0           0   \n",
       "18241  1970-01-01 00:00:01.225309084   2008-10-29        30           0   \n",
       "...                              ...          ...       ...         ...   \n",
       "23537  1970-01-01 00:00:01.231694206   2009-01-11         0           0   \n",
       "464079 1970-01-01 00:00:01.464186222   2016-05-25         2           0   \n",
       "70377  1970-01-01 00:00:01.293228034   2010-12-24         0           0   \n",
       "449772 1970-01-01 00:00:01.459330197   2016-03-30         3           0   \n",
       "34157  1970-01-01 00:00:01.241698384   2009-05-07         0           0   \n",
       "\n",
       "                                                    title  over_18  \\\n",
       "231048                Israeli Leaders Decry Geneva Accord    False   \n",
       "418777   Backed Rebels Continue  Fight One Another  Nu...    False   \n",
       "412803  Man Arrested  Germany With Weapons  Car May Ha...    False   \n",
       "349822  Netanyahu responds  Obama  did indeed present ...    False   \n",
       "18241   Gordon Brown  terror claims for  cards are  bu...    False   \n",
       "...                                                   ...      ...   \n",
       "23537    thwarts Israeli plan  bomb Iranian nuclear fa...    False   \n",
       "464079  Germany renewables electricity generation grow...    False   \n",
       "70377   Pajamas Media  Iran Just Shipped Missiles  Ven...    False   \n",
       "449772     Korea Iran officials  meet over economy  Korea    False   \n",
       "34157    Street  positions itself with Obama and again...    False   \n",
       "\n",
       "                   author   category  year        day  \\\n",
       "231048         dharmateja  worldnews  2013     Sunday   \n",
       "418777           Versutas  worldnews  2015    Tuesday   \n",
       "412803  middleeastnewsman  worldnews  2015   Saturday   \n",
       "349822           IBiteYou  worldnews  2015  Wednesday   \n",
       "18241            igeldard  worldnews  2008  Wednesday   \n",
       "...                   ...        ...   ...        ...   \n",
       "23537              yoda17  worldnews  2009     Sunday   \n",
       "464079   JackassWhisperer  worldnews  2016  Wednesday   \n",
       "70377              dbe944  worldnews  2010     Friday   \n",
       "449772    elusive_newsman  worldnews  2016  Wednesday   \n",
       "34157          MrHappyMan  worldnews  2009   Thursday   \n",
       "\n",
       "                                      tokenized_headlines  \\\n",
       "231048          [Israeli, Leaders, Decry, Geneva, Accord]   \n",
       "418777  [Backed, Rebels, Continue, Fight, One, Another...   \n",
       "412803  [Man, Arrested, Germany, With, Weapons, Car, M...   \n",
       "349822  [Netanyahu, responds, Obama, did, indeed, pres...   \n",
       "18241   [Gordon, Brown, terror, claims, for, cards, ar...   \n",
       "...                                                   ...   \n",
       "23537   [thwarts, Israeli, plan, bomb, Iranian, nuclea...   \n",
       "464079  [Germany, renewables, electricity, generation,...   \n",
       "70377   [Pajamas, Media, Iran, Just, Shipped, Missiles...   \n",
       "449772  [Korea, Iran, officials, meet, over, economy, ...   \n",
       "34157   [Street, positions, itself, with, Obama, and, ...   \n",
       "\n",
       "                                                  stemmed  \\\n",
       "231048              [isra, leader, decri, geneva, accord]   \n",
       "418777  [back, rebel, continu, fight, one, anoth, nusr...   \n",
       "412803  [man, arrest, germani, with, weapon, car, may,...   \n",
       "349822  [netanyahu, respond, obama, inde, present, pra...   \n",
       "18241   [gordon, brown, terror, claim, card, bunkum, s...   \n",
       "...                                                   ...   \n",
       "23537   [thwart, isra, plan, bomb, iranian, nuclear, f...   \n",
       "464079  [germani, renew, electr, generat, grow, coal, ...   \n",
       "70377   [pajama, media, iran, just, ship, missil, vene...   \n",
       "449772        [korea, iran, offici, meet, economi, korea]   \n",
       "34157                       [street, posit, obama, aipac]   \n",
       "\n",
       "                                               lemmatized  \n",
       "231048              [isra, leader, decri, geneva, accord]  \n",
       "418777  [back, rebel, continu, fight, one, anoth, nusr...  \n",
       "412803  [man, arrest, germani, with, weapon, car, may,...  \n",
       "349822  [netanyahu, respond, obama, inde, present, pra...  \n",
       "18241   [gordon, brown, terror, claim, card, bunkum, s...  \n",
       "...                                                   ...  \n",
       "23537   [thwart, isra, plan, bomb, iranian, nuclear, f...  \n",
       "464079  [germani, renew, electr, generat, grow, coal, ...  \n",
       "70377   [pajama, media, iran, just, ship, missil, vene...  \n",
       "449772        [korea, iran, offici, meet, economi, korea]  \n",
       "34157                       [street, posit, obama, aipac]  \n",
       "\n",
       "[5092 rows x 13 columns]"
      ]
     },
     "execution_count": 20,
     "metadata": {},
     "output_type": "execute_result"
    }
   ],
   "source": [
    "get_result = prepare_text(df.sample(frac = 0.01,random_state=0))\n",
    "get_result"
   ]
  },
  {
   "cell_type": "markdown",
   "metadata": {},
   "source": [
    "#### We then use the CountVectorizer object in sci-kit learn to make our bag of words"
   ]
  },
  {
   "cell_type": "code",
   "execution_count": 21,
   "metadata": {},
   "outputs": [],
   "source": [
    "## Function to prepare the inputs into our model\n",
    "## This function takes in a Pandas dataframe, and a vectorizer object parameters\n",
    "\n",
    "def dummy(doc):\n",
    "    return doc\n",
    "\n",
    "def make_xy(get_result, vectorizer=None):\n",
    "    if vectorizer is None:\n",
    "        vectorizer = CountVectorizer(tokenizer= dummy,preprocessor=dummy)#lowercase=True, stop_words=\"english\", tokenizer=LemmaTokenizer())\n",
    "        \n",
    "    headline_text = list(get_result.lemmatized)\n",
    "    vectorizer.fit(headline_text)\n",
    "    \n",
    "    X = vectorizer.transform(headline_text)\n",
    "    X = X.toarray()\n",
    "    Y = np.array(get_result[\"up_votes\"].values)\n",
    "    return X, Y"
   ]
  },
  {
   "cell_type": "markdown",
   "metadata": {},
   "source": [
    "### Preparing the inputs to our model"
   ]
  },
  {
   "cell_type": "code",
   "execution_count": 22,
   "metadata": {},
   "outputs": [
    {
     "name": "stderr",
     "output_type": "stream",
     "text": [
      "/usr/local/anaconda3/lib/python3.7/site-packages/sklearn/feature_extraction/text.py:507: UserWarning: The parameter 'token_pattern' will not be used since 'tokenizer' is not None'\n",
      "  warnings.warn(\"The parameter 'token_pattern' will not be used\"\n"
     ]
    },
    {
     "data": {
      "text/plain": [
       "array([[0, 0, 0, ..., 0, 0, 0],\n",
       "       [0, 0, 0, ..., 0, 0, 0],\n",
       "       [0, 0, 0, ..., 0, 0, 0],\n",
       "       ...,\n",
       "       [0, 0, 0, ..., 0, 0, 0],\n",
       "       [0, 0, 0, ..., 0, 0, 0],\n",
       "       [0, 0, 0, ..., 0, 0, 0]])"
      ]
     },
     "execution_count": 22,
     "metadata": {},
     "output_type": "execute_result"
    }
   ],
   "source": [
    "X, Y = make_xy(get_result)\n",
    "X"
   ]
  },
  {
   "cell_type": "code",
   "execution_count": 54,
   "metadata": {},
   "outputs": [
    {
     "data": {
      "text/plain": [
       "array([ 1,  6, 18, ...,  0,  3,  0])"
      ]
     },
     "execution_count": 54,
     "metadata": {},
     "output_type": "execute_result"
    }
   ],
   "source": [
    "Y"
   ]
  },
  {
   "cell_type": "code",
   "execution_count": 24,
   "metadata": {},
   "outputs": [],
   "source": [
    "np.random.seed(100)\n",
    "xtrain, xtest, ytrain, ytest = train_test_split(X,Y, test_size = 0.33, random_state = 0)"
   ]
  },
  {
   "cell_type": "markdown",
   "metadata": {},
   "source": [
    "Now that we have our data inputs prepared, let us train a simple linear regression model to predict upvotes based on words in the headlines and check our accuracy"
   ]
  },
  {
   "cell_type": "markdown",
   "metadata": {},
   "source": [
    "## Training Linear Regression Model to predict upvotes based on the headlines"
   ]
  },
  {
   "cell_type": "code",
   "execution_count": 29,
   "metadata": {},
   "outputs": [
    {
     "data": {
      "text/plain": [
       "LinearRegression(copy_X=True, fit_intercept=True, n_jobs=None, normalize=False)"
      ]
     },
     "execution_count": 29,
     "metadata": {},
     "output_type": "execute_result"
    }
   ],
   "source": [
    "lr = LinearRegression()\n",
    "lr.fit(xtrain, ytrain)"
   ]
  },
  {
   "cell_type": "code",
   "execution_count": 30,
   "metadata": {},
   "outputs": [
    {
     "name": "stdout",
     "output_type": "stream",
     "text": [
      "819.4269254986394\n"
     ]
    }
   ],
   "source": [
    "train_predictions = lr.predict(xtest)\n",
    "\n",
    "mse = np.sqrt(mean_squared_error(predictions, ytest))\n",
    "print(mse)\n"
   ]
  },
  {
   "cell_type": "code",
   "execution_count": 31,
   "metadata": {},
   "outputs": [
    {
     "data": {
      "text/plain": [
       "112.23628337352426"
      ]
     },
     "execution_count": 31,
     "metadata": {},
     "output_type": "execute_result"
    }
   ],
   "source": [
    "df[\"up_votes\"].mean()"
   ]
  },
  {
   "cell_type": "markdown",
   "metadata": {},
   "source": [
    "After seeing the root mean squared error of 819.43 and considering our average upvotes for the post is 112.2 we can see that this is not a very good model. We might have to try a gradient booster regressor model to see if we get a better accuracy"
   ]
  },
  {
   "cell_type": "markdown",
   "metadata": {},
   "source": [
    "## Logistic Regression Model"
   ]
  },
  {
   "cell_type": "code",
   "execution_count": 49,
   "metadata": {},
   "outputs": [],
   "source": [
    "from sklearn.linear_model import LogisticRegression\n",
    "logistic_reg = LogisticRegression(C= 0.1, penalty='l2', tol=0.01)\n"
   ]
  },
  {
   "cell_type": "code",
   "execution_count": 50,
   "metadata": {},
   "outputs": [
    {
     "data": {
      "text/plain": [
       "LogisticRegression(C=0.1, class_weight=None, dual=False, fit_intercept=True,\n",
       "                   intercept_scaling=1, l1_ratio=None, max_iter=100,\n",
       "                   multi_class='auto', n_jobs=None, penalty='l2',\n",
       "                   random_state=None, solver='lbfgs', tol=0.01, verbose=0,\n",
       "                   warm_start=False)"
      ]
     },
     "execution_count": 50,
     "metadata": {},
     "output_type": "execute_result"
    }
   ],
   "source": [
    "logistic_reg.fit(xtrain, ytrain)\n"
   ]
  },
  {
   "cell_type": "code",
   "execution_count": 51,
   "metadata": {},
   "outputs": [
    {
     "data": {
      "text/plain": [
       "435.7115092968396"
      ]
     },
     "execution_count": 51,
     "metadata": {},
     "output_type": "execute_result"
    }
   ],
   "source": [
    "lr_rmse = np.sqrt(mean_squared_error(ytest, logistic_reg.predict(xtest)))\n",
    "lr_rmse"
   ]
  },
  {
   "cell_type": "markdown",
   "metadata": {},
   "source": [
    "We have gotten a much better rmse with our logistic regressor with l2 penalty, however it is still relatively high compared to our average upvotes, let us try a gradient booster model"
   ]
  },
  {
   "cell_type": "markdown",
   "metadata": {},
   "source": [
    "## Gradient Booster Regression Model"
   ]
  },
  {
   "cell_type": "code",
   "execution_count": 40,
   "metadata": {},
   "outputs": [
    {
     "data": {
      "text/plain": [
       "GradientBoostingRegressor(alpha=0.9, ccp_alpha=0.0, criterion='friedman_mse',\n",
       "                          init=None, learning_rate=0.1, loss='ls', max_depth=5,\n",
       "                          max_features=None, max_leaf_nodes=None,\n",
       "                          min_impurity_decrease=0.0, min_impurity_split=None,\n",
       "                          min_samples_leaf=1, min_samples_split=2,\n",
       "                          min_weight_fraction_leaf=0.0, n_estimators=70,\n",
       "                          n_iter_no_change=None, presort='deprecated',\n",
       "                          random_state=None, subsample=1.0, tol=0.0001,\n",
       "                          validation_fraction=0.1, verbose=0, warm_start=False)"
      ]
     },
     "execution_count": 40,
     "metadata": {},
     "output_type": "execute_result"
    }
   ],
   "source": [
    "from sklearn.ensemble import GradientBoostingRegressor\n",
    "gbr = GradientBoostingRegressor(n_estimators=70, max_depth=5)\n",
    "gbr.fit(xtrain, ytrain)\n"
   ]
  },
  {
   "cell_type": "code",
   "execution_count": 42,
   "metadata": {},
   "outputs": [
    {
     "data": {
      "text/plain": [
       "531.4145970860176"
      ]
     },
     "execution_count": 42,
     "metadata": {},
     "output_type": "execute_result"
    }
   ],
   "source": [
    "gb_rmse = np.sqrt(mean_squared_error(ytest, gbr.predict(xtest)))\n",
    "gb_rmse"
   ]
  },
  {
   "cell_type": "markdown",
   "metadata": {},
   "source": [
    "Our rmse has reduced significantly with this model, however, it is still relatively large compared to our average upvotes and higher than our logistic regressor"
   ]
  },
  {
   "cell_type": "markdown",
   "metadata": {},
   "source": [
    "## Random Forest Regression model"
   ]
  },
  {
   "cell_type": "code",
   "execution_count": 66,
   "metadata": {},
   "outputs": [],
   "source": [
    "from sklearn.ensemble import RandomForestRegressor\n",
    "rf = RandomForestRegressor(n_estimators= 500, max_depth=10, max_features = 'sqrt')"
   ]
  },
  {
   "cell_type": "code",
   "execution_count": 67,
   "metadata": {},
   "outputs": [],
   "source": [
    "rf.fit(xtrain, ytrain)\n",
    "predictions = rf.predict(xtest)"
   ]
  },
  {
   "cell_type": "code",
   "execution_count": 68,
   "metadata": {},
   "outputs": [
    {
     "name": "stdout",
     "output_type": "stream",
     "text": [
      "428.64945592898187\n"
     ]
    }
   ],
   "source": [
    "rmse = np.sqrt(mean_squared_error(predictions, ytest))\n",
    "print(rmse)"
   ]
  },
  {
   "cell_type": "markdown",
   "metadata": {},
   "source": [
    "This seems to be our best model till now, however, we need to reduce our rmse significantly more to make accurate predictions about the upvotes"
   ]
  },
  {
   "cell_type": "markdown",
   "metadata": {},
   "source": [
    "## CONCLUSION:\n",
    "\n",
    "1) In the four models that we attempted, we got high errors in terms of our average upvotes, however, a random forest regressor gave us our best accuracy till now. There could be multiple reasons for this, one being that we had to train our model on a random sample of 10% of our total data to save runtime and better computation efficiency and second owing to the fact that the headlines might not be the best indicator for upvotes. \n",
    "\n",
    "2) We can see that the average upvotes have increased over the years and articles posted on weekends have a higher chance of garnering more upvotes. \n",
    "\n",
    "3) Although, we were able to find the sum of upvotes received by authors over the year for the articles thye posted, there was no clear correlation established between number of articles posted and the sum of upvotes.\n",
    "\n",
    "This was an attempt to efficiently use text data to train multiple predictive models in NLP to see how the text in the headlines is related to upvotes. Next steps would be to clean up the data further and approcach the problem with more specifc questions about the text such as extracting specific verbs and countries and correlate that to the upvotes to see the effect which might help in better training the model for more accurate predictions."
   ]
  },
  {
   "cell_type": "code",
   "execution_count": null,
   "metadata": {},
   "outputs": [],
   "source": []
  }
 ],
 "metadata": {
  "kernelspec": {
   "display_name": "Python 3",
   "language": "python",
   "name": "python3"
  },
  "language_info": {
   "codemirror_mode": {
    "name": "ipython",
    "version": 3
   },
   "file_extension": ".py",
   "mimetype": "text/x-python",
   "name": "python",
   "nbconvert_exporter": "python",
   "pygments_lexer": "ipython3",
   "version": "3.7.6"
  }
 },
 "nbformat": 4,
 "nbformat_minor": 4
}
